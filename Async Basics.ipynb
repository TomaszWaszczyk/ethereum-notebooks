{
 "cells": [
  {
   "cell_type": "code",
   "execution_count": 1,
   "id": "f3bc676a",
   "metadata": {},
   "outputs": [
    {
     "name": "stdout",
     "output_type": "stream",
     "text": [
      "block 16728533 has 157 txs\n",
      "block 16728536 has 173 txs\n",
      "block 16728534 has 173 txs\n",
      "block 16728537 has 151 txs\n",
      "block 16728535 has 131 txs\n"
     ]
    }
   ],
   "source": [
    "import asyncio\n",
    "from web3 import AsyncWeb3, AsyncHTTPProvider\n",
    "\n",
    "w3 = AsyncWeb3(AsyncHTTPProvider('https://rpc.ankr.com/eth'))\n",
    "\n",
    "BLOCK_COUNT = 5\n",
    "\n",
    "async def main():\n",
    "    latest_block = await w3.eth.block_number\n",
    "    for result in asyncio.as_completed(\n",
    "        [w3.eth.get_block(latest_block - num) for num in range(BLOCK_COUNT)]\n",
    "    ):\n",
    "        block = await result\n",
    "        print(f\"block {block.number} has {len(block.transactions)} txs\")\n",
    "\n",
    "# NOTE: jupyter notebook supports `await` syntax,\n",
    "# but you'll need to use `asyncio.run()` in other environments:\n",
    "# e.g., asyncio.run(main())\n",
    "await main()"
   ]
  },
  {
   "cell_type": "markdown",
   "id": "b0ff3204",
   "metadata": {},
   "source": [
    "Asynchronous usage of the ENS module:"
   ]
  },
  {
   "cell_type": "code",
   "execution_count": 3,
   "id": "65a58999",
   "metadata": {},
   "outputs": [
    {
     "name": "stdout",
     "output_type": "stream",
     "text": [
      "0xd8dA6BF26964aF9D7eEd9e03E53415D37aA96045\n",
      "0x3C6aEFF92b4B35C2e1b196B57d0f8FFB56884A17\n",
      "0xB6Aa5a1AA37a4195725cDF1576dc741d359b56bd\n",
      "0x3C6aEFF92b4B35C2e1b196B57d0f8FFB56884A17\n",
      "0xB6Aa5a1AA37a4195725cDF1576dc741d359b56bd\n",
      "0xd8dA6BF26964aF9D7eEd9e03E53415D37aA96045\n",
      "0x3C6aEFF92b4B35C2e1b196B57d0f8FFB56884A17\n",
      "0xd8dA6BF26964aF9D7eEd9e03E53415D37aA96045\n",
      "0xB6Aa5a1AA37a4195725cDF1576dc741d359b56bd\n"
     ]
    }
   ],
   "source": [
    "from ens import AsyncENS\n",
    "\n",
    "ns = AsyncENS.from_web3(w3)\n",
    "\n",
    "names = ['shaq.eth', 'vitalik.eth', 'parishilton.eth'] * 3\n",
    "\n",
    "async def fetch_addresses():\n",
    "    for result in asyncio.as_completed(\n",
    "        [ns.address(name) for name in names]\n",
    "    ):\n",
    "        print(await result)\n",
    "\n",
    "await fetch_addresses()"
   ]
  }
 ],
 "metadata": {
  "kernelspec": {
   "display_name": "Python 3 (ipykernel)",
   "language": "python",
   "name": "python3"
  },
  "language_info": {
   "codemirror_mode": {
    "name": "ipython",
    "version": 3
   },
   "file_extension": ".py",
   "mimetype": "text/x-python",
   "name": "python",
   "nbconvert_exporter": "python",
   "pygments_lexer": "ipython3",
   "version": "3.9.7"
  }
 },
 "nbformat": 4,
 "nbformat_minor": 5
}
