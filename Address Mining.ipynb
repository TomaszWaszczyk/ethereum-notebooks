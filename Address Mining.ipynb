{
 "cells": [
  {
   "cell_type": "markdown",
   "id": "709d1a33",
   "metadata": {},
   "source": [
    "*Accompanying blog post can be found [here](https://snakecharmers.ethereum.org/web3-py-patterns-mining-addresses/).*"
   ]
  },
  {
   "cell_type": "code",
   "execution_count": 1,
   "id": "674b5aa5",
   "metadata": {},
   "outputs": [],
   "source": [
    "from web3 import Web3\n",
    "\n",
    "# No provider is required for creating accounts.\n",
    "w3 = Web3()"
   ]
  },
  {
   "cell_type": "markdown",
   "id": "f796d3ea",
   "metadata": {},
   "source": [
    "**\"Mining\" for a vanity address** is the process of randomly creating addresses until you find one that contains, starts with, or ends with a certain set of characters. Below is an example of mining for an address that starts with at least three `f`s.\n",
    "\n",
    "*(Perhaps obvious) note: don't use this address or private key for anything!*"
   ]
  },
  {
   "cell_type": "code",
   "execution_count": 2,
   "id": "4102f94b",
   "metadata": {},
   "outputs": [
    {
     "name": "stdout",
     "output_type": "stream",
     "text": [
      "public address: 0xfFf65FB327C8A706ead5206F671e45384b208915\n",
      "private key: 0xcc1a20b18cbf1a6b6710473c277957ce0bc8d39cf6162d2d48601da88d6d3d6e\n"
     ]
    }
   ],
   "source": [
    "def mine_address_starting_with(chars):\n",
    "    while True:\n",
    "       acct = w3.eth.account.create(\"for-purpose-of-adding-randomness\")\n",
    "       if acct.address.lower().startswith(chars):\n",
    "          print(f\"public address: {acct.address}\")\n",
    "          print(f\"private key: {acct.key.hex()}\")\n",
    "          break\n",
    "\n",
    "mine_address_starting_with(\"0xfff\")"
   ]
  },
  {
   "cell_type": "markdown",
   "id": "c8563c1f",
   "metadata": {},
   "source": [
    "Once you have an account, you can utilize it by importing the private key into MetaMask, for example. After importing the private key, you should see the same public address appear, since public addresses are derived from private keys.\n",
    "\n",
    "*Again, it is not safe to use this particular account.*"
   ]
  },
  {
   "cell_type": "markdown",
   "id": "1ce7fbc6",
   "metadata": {},
   "source": [
    "---\n",
    "\n",
    "Note that for each additional character you want included in your public address, you may be waiting for an exponentially longer period of time.\n",
    "\n",
    "To illustrate this idea, we'll time how long the machine was randomly creating addresses before it found one that fit the criteria. Given the random nature of this process, you might reach a result in much less or much more time than these example."
   ]
  },
  {
   "cell_type": "code",
   "execution_count": 3,
   "id": "ad7a59ca",
   "metadata": {},
   "outputs": [
    {
     "name": "stdout",
     "output_type": "stream",
     "text": [
      "public address: 0xFA6Bb291d4663DcEd44708D0E197dA1D4C157464\n",
      "private key: 0xbfe62c6b59e9125ce7ba07dfda397d49ce3bb39407b24d88d4fdc3332f1f021c\n",
      "Randomly creating accounts until 1 matching char: 0.23 sec\n",
      "\n",
      "public address: 0xFfF77b83AA3A6c512efBE407C8549f7429819Aa8\n",
      "private key: 0x1f157956fc8447a8b4e4e27471b4606610ef21023687d21974374968fdb2dbde\n",
      "Randomly creating accounts until 2 matching chars: 1.64 sec\n",
      "\n",
      "public address: 0xFfF2C29b896Eae3e9f934086150915bF0583ef8f\n",
      "private key: 0xa66e407733a2278754d23f021000f8a47bf95ef611737781d9f0eb6243e90ee4\n",
      "Randomly creating accounts until 3 matching chars: 9.46 sec\n",
      "\n",
      "public address: 0xffFf4Fd890E105752C814686E8c7227D999A3Be4\n",
      "private key: 0x91f7797bd25e80f78faab757f3d23d0b763b47239f9fad26712aff88e2922c64\n",
      "Randomly creating accounts until 4 matching chars: 63.01 sec\n"
     ]
    }
   ],
   "source": [
    "from timeit import default_timer\n",
    "\n",
    "# Example 1: one char\n",
    "starttime = default_timer()\n",
    "mine_address_starting_with(\"0xf\")\n",
    "execution_time = default_timer() - starttime\n",
    "print(f\"Randomly creating accounts until 1 matching char: {execution_time:.2f} sec\\n\")\n",
    "\n",
    "# Example 2: two chars\n",
    "starttime = default_timer()\n",
    "mine_address_starting_with(\"0xff\")\n",
    "execution_time = default_timer() - starttime\n",
    "print(f\"Randomly creating accounts until 2 matching chars: {execution_time:.2f} sec\\n\")\n",
    "\n",
    "# Example 3: three chars\n",
    "starttime = default_timer()\n",
    "mine_address_starting_with(\"0xfff\")\n",
    "execution_time = default_timer() - starttime\n",
    "print(f\"Randomly creating accounts until 3 matching chars: {execution_time:.2f} sec\\n\")\n",
    "\n",
    "# Example 4: four chars\n",
    "starttime = default_timer()\n",
    "mine_address_starting_with(\"0xffff\")\n",
    "execution_time = default_timer() - starttime\n",
    "print(f\"Randomly creating accounts until 4 matching chars: {execution_time:.2f} sec\")"
   ]
  }
 ],
 "metadata": {
  "kernelspec": {
   "display_name": "Python 3 (ipykernel)",
   "language": "python",
   "name": "python3"
  },
  "language_info": {
   "codemirror_mode": {
    "name": "ipython",
    "version": 3
   },
   "file_extension": ".py",
   "mimetype": "text/x-python",
   "name": "python",
   "nbconvert_exporter": "python",
   "pygments_lexer": "ipython3",
   "version": "3.9.7"
  }
 },
 "nbformat": 4,
 "nbformat_minor": 5
}
